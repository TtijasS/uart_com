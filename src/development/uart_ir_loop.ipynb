{
 "cells": [
  {
   "cell_type": "code",
   "execution_count": 60,
   "metadata": {},
   "outputs": [],
   "source": [
    "import serial\n",
    "import numpy as np\n",
    "import matplotlib.pyplot as plt\n",
    "from scipy.ndimage import gaussian_filter\n",
    "import time"
   ]
  },
  {
   "cell_type": "code",
   "execution_count": 61,
   "metadata": {},
   "outputs": [],
   "source": [
    "ser = serial.Serial('COM6', 115200, timeout=1)"
   ]
  },
  {
   "cell_type": "code",
   "execution_count": 66,
   "metadata": {},
   "outputs": [
    {
     "name": "stdout",
     "output_type": "stream",
     "text": [
      "Start\n",
      "Saved @ 1718104671.9847114\n",
      "Start\n",
      "Saved @ 1718104673.6401489\n",
      "Start\n",
      "Saved @ 1718104675.2960691\n",
      "Start\n",
      "Saved @ 1718104676.9528723\n",
      "Start\n",
      "Saved @ 1718104678.610281\n"
     ]
    },
    {
     "ename": "KeyboardInterrupt",
     "evalue": "",
     "output_type": "error",
     "traceback": [
      "\u001b[1;31m---------------------------------------------------------------------------\u001b[0m",
      "\u001b[1;31mKeyboardInterrupt\u001b[0m                         Traceback (most recent call last)",
      "Cell \u001b[1;32mIn[66], line 8\u001b[0m\n\u001b[0;32m      5\u001b[0m start_time \u001b[38;5;241m=\u001b[39m time\u001b[38;5;241m.\u001b[39mtime()\n\u001b[0;32m      7\u001b[0m \u001b[38;5;28;01mwhile\u001b[39;00m \u001b[38;5;28;01mTrue\u001b[39;00m:\n\u001b[1;32m----> 8\u001b[0m     \u001b[38;5;28;01mif\u001b[39;00m \u001b[43mser\u001b[49m\u001b[38;5;241;43m.\u001b[39;49m\u001b[43min_waiting\u001b[49m \u001b[38;5;241m>\u001b[39m \u001b[38;5;241m0\u001b[39m:\n\u001b[0;32m      9\u001b[0m         received_data \u001b[38;5;241m=\u001b[39m ser\u001b[38;5;241m.\u001b[39mreadline()\n\u001b[0;32m     11\u001b[0m         \u001b[38;5;66;03m# check if 10 s has passed\u001b[39;00m\n",
      "File \u001b[1;32mc:\\Users\\tugos\\.conda\\envs\\uart_com\\Lib\\site-packages\\serial\\serialwin32.py:258\u001b[0m, in \u001b[0;36mSerial.in_waiting\u001b[1;34m(self)\u001b[0m\n\u001b[0;32m    256\u001b[0m flags \u001b[38;5;241m=\u001b[39m win32\u001b[38;5;241m.\u001b[39mDWORD()\n\u001b[0;32m    257\u001b[0m comstat \u001b[38;5;241m=\u001b[39m win32\u001b[38;5;241m.\u001b[39mCOMSTAT()\n\u001b[1;32m--> 258\u001b[0m \u001b[38;5;28;01mif\u001b[39;00m \u001b[38;5;129;01mnot\u001b[39;00m \u001b[43mwin32\u001b[49m\u001b[38;5;241;43m.\u001b[39;49m\u001b[43mClearCommError\u001b[49m\u001b[43m(\u001b[49m\u001b[38;5;28;43mself\u001b[39;49m\u001b[38;5;241;43m.\u001b[39;49m\u001b[43m_port_handle\u001b[49m\u001b[43m,\u001b[49m\u001b[43m \u001b[49m\u001b[43mctypes\u001b[49m\u001b[38;5;241;43m.\u001b[39;49m\u001b[43mbyref\u001b[49m\u001b[43m(\u001b[49m\u001b[43mflags\u001b[49m\u001b[43m)\u001b[49m\u001b[43m,\u001b[49m\u001b[43m \u001b[49m\u001b[43mctypes\u001b[49m\u001b[38;5;241;43m.\u001b[39;49m\u001b[43mbyref\u001b[49m\u001b[43m(\u001b[49m\u001b[43mcomstat\u001b[49m\u001b[43m)\u001b[49m\u001b[43m)\u001b[49m:\n\u001b[0;32m    259\u001b[0m     \u001b[38;5;28;01mraise\u001b[39;00m SerialException(\u001b[38;5;124m\"\u001b[39m\u001b[38;5;124mClearCommError failed (\u001b[39m\u001b[38;5;132;01m{!r}\u001b[39;00m\u001b[38;5;124m)\u001b[39m\u001b[38;5;124m\"\u001b[39m\u001b[38;5;241m.\u001b[39mformat(ctypes\u001b[38;5;241m.\u001b[39mWinError()))\n\u001b[0;32m    260\u001b[0m \u001b[38;5;28;01mreturn\u001b[39;00m comstat\u001b[38;5;241m.\u001b[39mcbInQue\n",
      "\u001b[1;31mKeyboardInterrupt\u001b[0m: "
     ]
    }
   ],
   "source": [
    "start = False\n",
    "data_buffer = []\n",
    "\n",
    "# start time\n",
    "start_time = time.time()\n",
    "\n",
    "while True:\n",
    "    if ser.in_waiting > 0:\n",
    "        received_data = ser.readline()\n",
    "\n",
    "        # check if 10 s has passed\n",
    "        time_end = time.time()\n",
    "        deltatime = time_end - start_time\n",
    "        if deltatime < 5:\n",
    "            continue\n",
    "        \n",
    "        # Check for start and end markers\n",
    "        if received_data == b'fffffff1\\r\\n':\n",
    "            print(f\"Start\")\n",
    "            start = True\n",
    "            time_start = time.time()\n",
    "            continue\n",
    "        elif received_data == b'f1ffffff\\r\\n':\n",
    "            print(f\"Saved @ {time_end}\")\n",
    "            time_start = time.time()\n",
    "            start = False\n",
    "        if start:\n",
    "            data_buffer = received_data.decode('utf-8').replace('\\r\\n', '').split(';')\n",
    "            if len(data_buffer) == 768:\n",
    "                data_list = list(map(float, data_buffer))\n",
    "            \n",
    "            # # Filter out zero values and reshape to a 2D array (24x32 for MLX90640 sensor)\n",
    "            data_array = np.array(data_list).reshape((24, 32)) + 8\n",
    "\n",
    "            # # save data array to json to ../data/data_output/\n",
    "            # with open(f'../data/output_data/thermal_image_{time.strftime(\"%y%d%m-%H%M%S\")}.json', 'w') as f:\n",
    "            #     # write current timestamp\n",
    "            #     f.write(time.strftime(\"%y%d%m-%H%M%S\"))\n",
    "            #     f.write('\\n')\n",
    "            #     # write data array\n",
    "            #     f.write(str(data_array.tolist()))\n",
    "            \n",
    "            # Plot the thermal image\n",
    "            \n",
    "            # plt.imshow(data_array, cmap='jet', interpolation='nearest')\n",
    "            # plt.colorbar(label='Temperature (°C)')\n",
    "            # plt.title('Thermal Image')\n",
    "            # plt.show()\n",
    "\t\t\t"
   ]
  },
  {
   "cell_type": "code",
   "execution_count": null,
   "metadata": {},
   "outputs": [],
   "source": [
    "ser.close()"
   ]
  },
  {
   "cell_type": "code",
   "execution_count": null,
   "metadata": {},
   "outputs": [],
   "source": [
    "start = False\n",
    "\n",
    "# Set up the initial plot\n",
    "plt.ion()  # Turn on interactive mode\n",
    "fig, ax = plt.subplots()\n",
    "thermal_image = ax.imshow(np.zeros((24, 32)), cmap='jet', interpolation='nearest')\n",
    "cbar = plt.colorbar(thermal_image, ax=ax, label='Temperature (°C)')\n",
    "plt.show()\n",
    "\n",
    "while True:\n",
    "    if ser.in_waiting > 0:\n",
    "        received_data = ser.readline()\n",
    "        \n",
    "        # Check for start and end markers\n",
    "        if received_data == b'fffffff1\\r\\n':\n",
    "            print(f\"Received data: {received_data} (start)\")\n",
    "            start = True\n",
    "            data_buffer = []  # Reset the data buffer at the start\n",
    "            continue\n",
    "        elif received_data == b'f1ffffff\\r\\n':\n",
    "            print(f\"Received data: {received_data} (end)\")\n",
    "            start = False\n",
    "            if len(data_buffer) == 768:\n",
    "                data_list = list(map(float, data_buffer))\n",
    "                \n",
    "                # Filter out zero values and reshape to a 2D array (24x32 for MLX90640 sensor)\n",
    "                data_array = np.array(data_list).reshape((24, 32)) + 8\n",
    "\n",
    "                # Apply Gaussian filter with a 5x5 kernel\n",
    "                data_array = gaussian_filter(data_array, sigma=1)\n",
    "\n",
    "                # Update the thermal image data\n",
    "                thermal_image.set_data(data_array)\n",
    "                thermal_image.set_clim(vmin=np.min(data_array), vmax=np.max(data_array))\n",
    "                \n",
    "                # Redraw the plot\n",
    "                plt.draw()\n",
    "                plt.pause(0.1)  # Pause to allow the plot to update\n",
    "            else:\n",
    "                print(\"Data buffer length is incorrect. Skipping update.\")\n",
    "        elif start:\n",
    "            # Append received data to buffer\n",
    "            data_buffer.extend(received_data.decode('utf-8').replace('\\r\\n', '').split(';'))\n"
   ]
  },
  {
   "cell_type": "code",
   "execution_count": null,
   "metadata": {},
   "outputs": [],
   "source": [
    "ser.close()"
   ]
  },
  {
   "cell_type": "code",
   "execution_count": null,
   "metadata": {},
   "outputs": [],
   "source": [
    "%matplotlib notebook\n",
    "import matplotlib.pyplot as plt\n",
    "import numpy as np\n",
    "import time\n",
    "\n",
    "# Create a figure and axis\n",
    "fig, ax = plt.subplots()\n",
    "xdata, ydata = [], []\n",
    "line, = ax.plot([], [], 'r-')\n",
    "\n",
    "# Initialize the plot\n",
    "ax.set_xlim(0, 2 * np.pi)\n",
    "ax.set_ylim(-1, 1)\n",
    "\n",
    "# Draw the initial plot\n",
    "plt.ion()\n",
    "plt.show()\n",
    "\n",
    "# Loop to update the plot\n",
    "for frame in np.linspace(0, 2 * np.pi, 128):\n",
    "    xdata.append(frame)\n",
    "    ydata.append(np.sin(frame))\n",
    "    line.set_data(xdata, ydata)\n",
    "    ax.draw_artist(ax.patch)\n",
    "    ax.draw_artist(line)\n",
    "    fig.canvas.blit(ax.bbox)\n",
    "    fig.canvas.flush_events()\n",
    "    plt.pause(0.1)  # Pause to update the plot\n",
    "\n",
    "plt.ioff()\n",
    "plt.show()\n"
   ]
  }
 ],
 "metadata": {
  "kernelspec": {
   "display_name": "esp_idf_communication",
   "language": "python",
   "name": "python3"
  },
  "language_info": {
   "codemirror_mode": {
    "name": "ipython",
    "version": 3
   },
   "file_extension": ".py",
   "mimetype": "text/x-python",
   "name": "python",
   "nbconvert_exporter": "python",
   "pygments_lexer": "ipython3",
   "version": "3.12.3"
  }
 },
 "nbformat": 4,
 "nbformat_minor": 2
}
